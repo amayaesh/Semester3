{
  "nbformat": 4,
  "nbformat_minor": 0,
  "metadata": {
    "colab": {
      "provenance": []
    },
    "kernelspec": {
      "name": "python3",
      "display_name": "Python 3"
    },
    "language_info": {
      "name": "python"
    }
  },
  "cells": [
    {
      "cell_type": "code",
      "execution_count": 1,
      "metadata": {
        "id": "NDUE9dPJc6B1"
      },
      "outputs": [],
      "source": [
        "import pandas as pd"
      ]
    },
    {
      "cell_type": "code",
      "source": [
        "import numpy as np"
      ],
      "metadata": {
        "id": "wgPydfXIdEki"
      },
      "execution_count": 2,
      "outputs": []
    },
    {
      "cell_type": "code",
      "source": [
        "# menghubungkan colab dengan google drive\n",
        "from google.colab import drive\n",
        "drive.mount('/content/drive')"
      ],
      "metadata": {
        "colab": {
          "base_uri": "https://localhost:8080/"
        },
        "id": "l0DzzZbFdHQo",
        "outputId": "588c6964-c263-4155-e5d3-b7b67c2182d7"
      },
      "execution_count": 3,
      "outputs": [
        {
          "output_type": "stream",
          "name": "stdout",
          "text": [
            "Mounted at /content/drive\n"
          ]
        }
      ]
    },
    {
      "cell_type": "code",
      "source": [
        "# memanggil data set lewat gdrive\n",
        "path = \"/content/drive/MyDrive/Praktikum Machine Learning_Amaya Eshia_0110224102_Ai02/Praktikum ML 2\""
      ],
      "metadata": {
        "id": "uyjIdMemdWK3"
      },
      "execution_count": 5,
      "outputs": []
    },
    {
      "cell_type": "code",
      "source": [
        "# membaca file csv menggunakan pandas\n",
        "import pandas as pd\n",
        "df = pd.read_csv(path + \"/Data/day.csv\")"
      ],
      "metadata": {
        "id": "tHzl72b-eA6h"
      },
      "execution_count": 6,
      "outputs": []
    },
    {
      "cell_type": "code",
      "source": [
        "# memasukan dataset\n",
        "df = pd.read_csv(path + \"/Data/day.csv\")\n",
        "total_size = len(df)"
      ],
      "metadata": {
        "id": "njBOATcJeRS9"
      },
      "execution_count": 8,
      "outputs": []
    },
    {
      "cell_type": "code",
      "source": [
        "# pembagian rasio sesuai soal\n",
        "# Rasio akhir: Testing 20%, Validation 8%, Training 72%\n",
        "RASIO_TESTING = 0.20\n",
        "RASIO_VALIDATION = 0.10\n",
        "RASIO_TRAINING = 0.80"
      ],
      "metadata": {
        "id": "BVZznAZxettc"
      },
      "execution_count": 9,
      "outputs": []
    },
    {
      "cell_type": "code",
      "source": [
        "# HITUNG JUMLAH BARIS\n",
        "# Menggunakan np.ceil untuk memastikan pembulatan ke atas\n",
        "jumlah_testing = int(np.ceil(total_size * RASIO_TESTING))\n",
        "jumlah_validation = int(np.ceil(total_size * RASIO_VALIDATION))\n",
        "# Jumlah Training adalah sisanya\n",
        "jumlah_training = total_size - jumlah_testing - jumlah_validation"
      ],
      "metadata": {
        "id": "1wK6sJn7ez4f"
      },
      "execution_count": 10,
      "outputs": []
    },
    {
      "cell_type": "code",
      "source": [
        "# 1. PEMBAGIAN DATA BERDASARKAN URUTAN INDEKS (TIDAK DIACAK)\n",
        "# Perhatian: Pembagian ini mengasumsikan data sudah diacak atau tidak memiliki bias urutan."
      ],
      "metadata": {
        "id": "eeVLoiyRe5q1"
      },
      "execution_count": 11,
      "outputs": []
    },
    {
      "cell_type": "code",
      "source": [
        "# A. DATA TESTING (20%)\n",
        "# Mengambil data 20% pertama dari dataset\n",
        "df_test = df.iloc[:jumlah_testing]"
      ],
      "metadata": {
        "id": "jkgAvCXte_b4"
      },
      "execution_count": 12,
      "outputs": []
    },
    {
      "cell_type": "code",
      "source": [
        "# TAMPILKAN HASIL DATA TESTING\n",
        "print(\"\\n--- DATA TESTING (20% dari Total) ---\")\n",
        "print(f\"Jumlah: {len(df_test)} baris\")\n",
        "print(df_test.head())"
      ],
      "metadata": {
        "colab": {
          "base_uri": "https://localhost:8080/"
        },
        "id": "oDj2B3KhfGk3",
        "outputId": "5ceccdeb-633f-4c83-b4f6-119a864890ad"
      },
      "execution_count": 13,
      "outputs": [
        {
          "output_type": "stream",
          "name": "stdout",
          "text": [
            "\n",
            "--- DATA TESTING (20% dari Total) ---\n",
            "Jumlah: 147 baris\n",
            "   instant      dteday  season  yr  mnth  holiday  weekday  workingday  \\\n",
            "0        1  2011-01-01       1   0     1        0        6           0   \n",
            "1        2  2011-01-02       1   0     1        0        0           0   \n",
            "2        3  2011-01-03       1   0     1        0        1           1   \n",
            "3        4  2011-01-04       1   0     1        0        2           1   \n",
            "4        5  2011-01-05       1   0     1        0        3           1   \n",
            "\n",
            "   weathersit      temp     atemp       hum  windspeed  casual  registered  \\\n",
            "0           2  0.344167  0.363625  0.805833   0.160446     331         654   \n",
            "1           2  0.363478  0.353739  0.696087   0.248539     131         670   \n",
            "2           1  0.196364  0.189405  0.437273   0.248309     120        1229   \n",
            "3           1  0.200000  0.212122  0.590435   0.160296     108        1454   \n",
            "4           1  0.226957  0.229270  0.436957   0.186900      82        1518   \n",
            "\n",
            "    cnt  \n",
            "0   985  \n",
            "1   801  \n",
            "2  1349  \n",
            "3  1562  \n",
            "4  1600  \n"
          ]
        }
      ]
    },
    {
      "cell_type": "code",
      "source": [
        "# B. DATA VALIDATION (8%)\n",
        "# Mengambil data dari akhir Testing hingga batas Validation\n",
        "start_val = jumlah_testing\n",
        "end_val = jumlah_testing + jumlah_validation\n",
        "df_validation = df.iloc[start_val : end_val]"
      ],
      "metadata": {
        "id": "H0wVVuBHfNl1"
      },
      "execution_count": 14,
      "outputs": []
    },
    {
      "cell_type": "code",
      "source": [
        "# TAMPILKAN HASIL DATA VALIDATION\n",
        "print(\"\\n--- DATA VALIDATION (8% dari Total) ---\")\n",
        "print(f\"Jumlah: {len(df_validation)} baris\")\n",
        "print(df_validation.head())"
      ],
      "metadata": {
        "colab": {
          "base_uri": "https://localhost:8080/"
        },
        "id": "J2XYXXZifoJs",
        "outputId": "20e71366-9d44-46f1-ca58-8d461e2be677"
      },
      "execution_count": 15,
      "outputs": [
        {
          "output_type": "stream",
          "name": "stdout",
          "text": [
            "\n",
            "--- DATA VALIDATION (8% dari Total) ---\n",
            "Jumlah: 74 baris\n",
            "     instant      dteday  season  yr  mnth  holiday  weekday  workingday  \\\n",
            "147      148  2011-05-28       2   0     5        0        6           0   \n",
            "148      149  2011-05-29       2   0     5        0        0           0   \n",
            "149      150  2011-05-30       2   0     5        1        1           0   \n",
            "150      151  2011-05-31       2   0     5        0        2           1   \n",
            "151      152  2011-06-01       2   0     6        0        3           1   \n",
            "\n",
            "     weathersit      temp     atemp       hum  windspeed  casual  registered  \\\n",
            "147           1  0.655833  0.612379  0.729583   0.230092    2001        2757   \n",
            "148           1  0.667500  0.615550  0.818750   0.213938    2355        2433   \n",
            "149           1  0.733333  0.671092  0.685000   0.131225    1549        2549   \n",
            "150           1  0.775000  0.725383  0.636667   0.111329     673        3309   \n",
            "151           2  0.764167  0.720967  0.677083   0.207092     513        3461   \n",
            "\n",
            "      cnt  \n",
            "147  4758  \n",
            "148  4788  \n",
            "149  4098  \n",
            "150  3982  \n",
            "151  3974  \n"
          ]
        }
      ]
    },
    {
      "cell_type": "code",
      "source": [
        "# C. DATA TRAINING (72%)\n",
        "# Mengambil sisa data dari batas akhir Validation hingga akhir dataset\n",
        "df_train = df.iloc[end_val:]"
      ],
      "metadata": {
        "id": "5kpWHBbUfqYT"
      },
      "execution_count": 16,
      "outputs": []
    },
    {
      "cell_type": "code",
      "source": [
        "# TAMPILKAN HASIL DATA TRAINING\n",
        "print(\"\\n--- DATA TRAINING (72% dari Total) ---\")\n",
        "print(f\"Jumlah: {len(df_train)} baris\")\n",
        "print(df_train.head())"
      ],
      "metadata": {
        "colab": {
          "base_uri": "https://localhost:8080/"
        },
        "id": "KIsM8udHfumV",
        "outputId": "8d01ad9f-d313-4870-edcd-561f174d0c5a"
      },
      "execution_count": 17,
      "outputs": [
        {
          "output_type": "stream",
          "name": "stdout",
          "text": [
            "\n",
            "--- DATA TRAINING (72% dari Total) ---\n",
            "Jumlah: 510 baris\n",
            "     instant      dteday  season  yr  mnth  holiday  weekday  workingday  \\\n",
            "221      222  2011-08-10       3   0     8        0        3           1   \n",
            "222      223  2011-08-11       3   0     8        0        4           1   \n",
            "223      224  2011-08-12       3   0     8        0        5           1   \n",
            "224      225  2011-08-13       3   0     8        0        6           0   \n",
            "225      226  2011-08-14       3   0     8        0        0           0   \n",
            "\n",
            "     weathersit      temp     atemp       hum  windspeed  casual  registered  \\\n",
            "221           1  0.766667  0.684983  0.424167   0.200258     884        3896   \n",
            "222           1  0.717500  0.651521  0.423750   0.164796     812        3980   \n",
            "223           1  0.708333  0.654042  0.415000   0.125621    1051        3854   \n",
            "224           2  0.685833  0.645858  0.729583   0.211454    1504        2646   \n",
            "225           2  0.676667  0.624388  0.817500   0.222633    1338        2482   \n",
            "\n",
            "      cnt  \n",
            "221  4780  \n",
            "222  4792  \n",
            "223  4905  \n",
            "224  4150  \n",
            "225  3820  \n"
          ]
        }
      ]
    },
    {
      "cell_type": "markdown",
      "source": [
        "# ========================================\n",
        "# PEMBAGIAN DATA SESUAI REQUIREMENT\n",
        "# ========================================"
      ],
      "metadata": {
        "id": "-9Jyywy4hwlI"
      }
    },
    {
      "cell_type": "code",
      "source": [
        "# (c) Data Testing: 20% dari total dataset\n",
        "RASIO_TESTING = 0.20\n",
        "jumlah_testing = int(np.ceil(total_size * RASIO_TESTING))"
      ],
      "metadata": {
        "id": "FoOc2o-phzan"
      },
      "execution_count": 19,
      "outputs": []
    },
    {
      "cell_type": "code",
      "source": [
        "# (a) Data Training: 80% dari total dataset (sisa setelah testing)\n",
        "jumlah_training_awal = total_size - jumlah_testing"
      ],
      "metadata": {
        "id": "DY3ztuD2h_sn"
      },
      "execution_count": 20,
      "outputs": []
    },
    {
      "cell_type": "code",
      "source": [
        "# (b) Data Validation: 10% dari data training\n",
        "RASIO_VALIDATION = 0.10\n",
        "jumlah_validation = int(np.ceil(jumlah_training_awal * RASIO_VALIDATION))"
      ],
      "metadata": {
        "id": "lQ-mwW2aiHWK"
      },
      "execution_count": 21,
      "outputs": []
    },
    {
      "cell_type": "code",
      "source": [
        "# Jumlah Training akhir setelah dikurangi validation\n",
        "jumlah_training_akhir = jumlah_training_awal - jumlah_validation"
      ],
      "metadata": {
        "id": "_SLI7pKdiLtH"
      },
      "execution_count": 22,
      "outputs": []
    },
    {
      "cell_type": "code",
      "source": [
        "print(\"=== RASIO PEMBAGIAN DATA ===\")\n",
        "print(f\"Testing: 20% dari total = {jumlah_testing} baris\")\n",
        "print(f\"Training awal: 80% dari total = {jumlah_training_awal} baris\")\n",
        "print(f\"Validation: 10% dari training = {jumlah_validation} baris\")\n",
        "print(f\"Training akhir: {jumlah_training_akhir} baris\")\n",
        "print(f\"\\nRasio akhir terhadap total:\")\n",
        "print(f\"Testing: {(jumlah_testing/total_size)*100:.2f}%\")\n",
        "print(f\"Validation: {(jumlah_validation/total_size)*100:.2f}%\")\n",
        "print(f\"Training: {(jumlah_training_akhir/total_size)*100:.2f}%\")\n",
        "print(\"=\"*50)"
      ],
      "metadata": {
        "colab": {
          "base_uri": "https://localhost:8080/"
        },
        "id": "VEAgdET3iOXJ",
        "outputId": "766da9c7-e32c-40d7-86a4-bf2a8ed1511b"
      },
      "execution_count": 23,
      "outputs": [
        {
          "output_type": "stream",
          "name": "stdout",
          "text": [
            "=== RASIO PEMBAGIAN DATA ===\n",
            "Testing: 20% dari total = 147 baris\n",
            "Training awal: 80% dari total = 584 baris\n",
            "Validation: 10% dari training = 59 baris\n",
            "Training akhir: 525 baris\n",
            "\n",
            "Rasio akhir terhadap total:\n",
            "Testing: 20.11%\n",
            "Validation: 8.07%\n",
            "Training: 71.82%\n",
            "==================================================\n"
          ]
        }
      ]
    },
    {
      "cell_type": "markdown",
      "source": [
        "# ========================================\n",
        "# PEMBAGIAN DATA BERDASARKAN URUTAN\n",
        "# ========================================"
      ],
      "metadata": {
        "id": "YX5z1wJWiTyA"
      }
    },
    {
      "cell_type": "code",
      "source": [
        "# 1. DATA TESTING (20% pertama)\n",
        "df_test = df.iloc[:jumlah_testing]"
      ],
      "metadata": {
        "id": "lxkOBGdFiWcj"
      },
      "execution_count": 24,
      "outputs": []
    },
    {
      "cell_type": "code",
      "source": [
        "# 2. DATA TRAINING (80% sisanya, tapi nanti dipecah lagi)\n",
        "# Ambil dari akhir testing sampai akhir dataset\n",
        "df_training_temp = df.iloc[jumlah_testing:]"
      ],
      "metadata": {
        "id": "RI86wEwqiayY"
      },
      "execution_count": 25,
      "outputs": []
    },
    {
      "cell_type": "code",
      "source": [
        "# 3. PECAH DATA TRAINING JADI VALIDATION DAN TRAINING\n",
        "# Validation: 10% pertama dari data training\n",
        "df_validation = df_training_temp.iloc[:jumlah_validation]"
      ],
      "metadata": {
        "id": "D9JtvGueifbA"
      },
      "execution_count": 26,
      "outputs": []
    },
    {
      "cell_type": "code",
      "source": [
        "# Training akhir: sisanya\n",
        "df_train = df_training_temp.iloc[jumlah_validation:]"
      ],
      "metadata": {
        "id": "0Xib-4Hoikam"
      },
      "execution_count": 27,
      "outputs": []
    },
    {
      "cell_type": "markdown",
      "source": [
        "# ========================================\n",
        "# TAMPILKAN HASIL\n",
        "# ========================================\n"
      ],
      "metadata": {
        "id": "tWDuwPmnioFj"
      }
    },
    {
      "cell_type": "code",
      "source": [
        "print(\"\\n\\n### DATA TESTING (20% dari Total) ###\")\n",
        "print(f\"Jumlah: {len(df_test)} baris\")\n",
        "print(\"\\n5 Baris Teratas:\")\n",
        "print(df_test.head())"
      ],
      "metadata": {
        "colab": {
          "base_uri": "https://localhost:8080/"
        },
        "id": "nedQo-Qlin2Z",
        "outputId": "13235a2a-ae2a-47d5-e452-005e0ac516d3"
      },
      "execution_count": 28,
      "outputs": [
        {
          "output_type": "stream",
          "name": "stdout",
          "text": [
            "\n",
            "\n",
            "### DATA TESTING (20% dari Total) ###\n",
            "Jumlah: 147 baris\n",
            "\n",
            "5 Baris Teratas:\n",
            "   instant      dteday  season  yr  mnth  holiday  weekday  workingday  \\\n",
            "0        1  2011-01-01       1   0     1        0        6           0   \n",
            "1        2  2011-01-02       1   0     1        0        0           0   \n",
            "2        3  2011-01-03       1   0     1        0        1           1   \n",
            "3        4  2011-01-04       1   0     1        0        2           1   \n",
            "4        5  2011-01-05       1   0     1        0        3           1   \n",
            "\n",
            "   weathersit      temp     atemp       hum  windspeed  casual  registered  \\\n",
            "0           2  0.344167  0.363625  0.805833   0.160446     331         654   \n",
            "1           2  0.363478  0.353739  0.696087   0.248539     131         670   \n",
            "2           1  0.196364  0.189405  0.437273   0.248309     120        1229   \n",
            "3           1  0.200000  0.212122  0.590435   0.160296     108        1454   \n",
            "4           1  0.226957  0.229270  0.436957   0.186900      82        1518   \n",
            "\n",
            "    cnt  \n",
            "0   985  \n",
            "1   801  \n",
            "2  1349  \n",
            "3  1562  \n",
            "4  1600  \n"
          ]
        }
      ]
    },
    {
      "cell_type": "code",
      "source": [
        "print(\"\\n\\n### DATA VALIDATION (10% dari Training) ###\")\n",
        "print(f\"Jumlah: {len(df_validation)} baris\")\n",
        "print(\"\\n5 Baris Teratas:\")\n",
        "print(df_validation.head())"
      ],
      "metadata": {
        "colab": {
          "base_uri": "https://localhost:8080/"
        },
        "id": "SaXSCnhhiuqj",
        "outputId": "41446a2d-d1fd-4a57-b478-214e1c9585c7"
      },
      "execution_count": 29,
      "outputs": [
        {
          "output_type": "stream",
          "name": "stdout",
          "text": [
            "\n",
            "\n",
            "### DATA VALIDATION (10% dari Training) ###\n",
            "Jumlah: 59 baris\n",
            "\n",
            "5 Baris Teratas:\n",
            "     instant      dteday  season  yr  mnth  holiday  weekday  workingday  \\\n",
            "147      148  2011-05-28       2   0     5        0        6           0   \n",
            "148      149  2011-05-29       2   0     5        0        0           0   \n",
            "149      150  2011-05-30       2   0     5        1        1           0   \n",
            "150      151  2011-05-31       2   0     5        0        2           1   \n",
            "151      152  2011-06-01       2   0     6        0        3           1   \n",
            "\n",
            "     weathersit      temp     atemp       hum  windspeed  casual  registered  \\\n",
            "147           1  0.655833  0.612379  0.729583   0.230092    2001        2757   \n",
            "148           1  0.667500  0.615550  0.818750   0.213938    2355        2433   \n",
            "149           1  0.733333  0.671092  0.685000   0.131225    1549        2549   \n",
            "150           1  0.775000  0.725383  0.636667   0.111329     673        3309   \n",
            "151           2  0.764167  0.720967  0.677083   0.207092     513        3461   \n",
            "\n",
            "      cnt  \n",
            "147  4758  \n",
            "148  4788  \n",
            "149  4098  \n",
            "150  3982  \n",
            "151  3974  \n"
          ]
        }
      ]
    },
    {
      "cell_type": "code",
      "source": [
        "print(\"\\n\\n### DATA TRAINING (Sisanya) ###\")\n",
        "print(f\"Jumlah: {len(df_train)} baris\")\n",
        "print(\"\\n5 Baris Teratas:\")\n",
        "print(df_train.head())"
      ],
      "metadata": {
        "colab": {
          "base_uri": "https://localhost:8080/"
        },
        "id": "fxTGmEfhiyMH",
        "outputId": "3841168c-d881-41dc-e608-40f5266861aa"
      },
      "execution_count": 30,
      "outputs": [
        {
          "output_type": "stream",
          "name": "stdout",
          "text": [
            "\n",
            "\n",
            "### DATA TRAINING (Sisanya) ###\n",
            "Jumlah: 525 baris\n",
            "\n",
            "5 Baris Teratas:\n",
            "     instant      dteday  season  yr  mnth  holiday  weekday  workingday  \\\n",
            "206      207  2011-07-26       3   0     7        0        2           1   \n",
            "207      208  2011-07-27       3   0     7        0        3           1   \n",
            "208      209  2011-07-28       3   0     7        0        4           1   \n",
            "209      210  2011-07-29       3   0     7        0        5           1   \n",
            "210      211  2011-07-30       3   0     7        0        6           0   \n",
            "\n",
            "     weathersit      temp     atemp       hum  windspeed  casual  registered  \\\n",
            "206           1  0.771667  0.696979  0.540833   0.200258     750        3840   \n",
            "207           1  0.775000  0.690667  0.402917   0.183463     755        3901   \n",
            "208           1  0.779167  0.739900  0.583333   0.178479     606        3784   \n",
            "209           1  0.838333  0.785967  0.542500   0.174138     670        3176   \n",
            "210           1  0.804167  0.728537  0.465833   0.168537    1559        2916   \n",
            "\n",
            "      cnt  \n",
            "206  4590  \n",
            "207  4656  \n",
            "208  4390  \n",
            "209  3846  \n",
            "210  4475  \n"
          ]
        }
      ]
    },
    {
      "cell_type": "markdown",
      "source": [
        "# ========================================\n",
        "# VERIFIKASI\n",
        "# ========================================"
      ],
      "metadata": {
        "id": "lY-Sikx8i1DQ"
      }
    },
    {
      "cell_type": "code",
      "source": [
        "print(\"\\n\\n=== VERIFIKASI ===\")\n",
        "total_setelah_split = len(df_test) + len(df_validation) + len(df_train)\n",
        "print(f\"Total data awal: {total_size}\")\n",
        "print(f\"Total setelah split: {total_setelah_split}\")\n",
        "print(f\"Semua data ter-cover: {total_setelah_split == total_size}\")"
      ],
      "metadata": {
        "colab": {
          "base_uri": "https://localhost:8080/"
        },
        "id": "Lb7pUfhki5b6",
        "outputId": "65c620dd-5d00-4b1d-d432-adbfb8b19d9b"
      },
      "execution_count": 31,
      "outputs": [
        {
          "output_type": "stream",
          "name": "stdout",
          "text": [
            "\n",
            "\n",
            "=== VERIFIKASI ===\n",
            "Total data awal: 731\n",
            "Total setelah split: 731\n",
            "Semua data ter-cover: True\n"
          ]
        }
      ]
    },
    {
      "cell_type": "code",
      "source": [
        "# df_test.to_csv(\"data_testing.csv\", index=False)\n",
        "# df_validation.to_csv(\"data_validation.csv\", index=False)\n",
        "# df_train.to_csv(\"data_training.csv\", index=False)"
      ],
      "metadata": {
        "id": "C-YVZ2YAi--2"
      },
      "execution_count": 32,
      "outputs": []
    }
  ]
}